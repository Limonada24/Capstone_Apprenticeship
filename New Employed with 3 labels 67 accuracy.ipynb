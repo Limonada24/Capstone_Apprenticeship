{
 "cells": [
  {
   "cell_type": "code",
   "execution_count": 1,
   "metadata": {},
   "outputs": [],
   "source": [
    "import pandas as pd\n",
    "import numpy as np\n",
    "from sklearn.tree import DecisionTreeRegressor\n",
    "from sklearn.model_selection import train_test_split\n",
    "from sklearn import metrics\n",
    "from sklearn.metrics import r2_score\n",
    "from sklearn.preprocessing import MinMaxScaler\n",
    "\n",
    "import matplotlib.pyplot as plt\n",
    "from sklearn.metrics import accuracy_score, confusion_matrix, classification_report\n",
    "from sklearn.tree import DecisionTreeClassifier\n",
    "from sklearn.ensemble import BaggingClassifier, RandomForestClassifier\n",
    "\n",
    "new_employed = pd.read_csv('Data/new_employed.csv')\n",
    "new_employed = new_employed.drop('Unnamed: 0',1)\n",
    "\n",
    "new_employed['Income Level']= new_employed['Monthly Income']\n",
    "#level_1 = new_employed['Income Level'].quantile(.10)\n",
    "#level_2 = new_employed['Income Level'].quantile(.20)\n",
    "#level_3 = new_employed['Income Level'].quantile(.30)\n",
    "level_4 = new_employed['Income Level'].quantile(.40)\n",
    "#level_5 = new_employed['Income Level'].quantile(.50)\n",
    "#level_6 = new_employed['Income Level'].quantile(.60)\n",
    "#level_7 = new_employed['Income Level'].quantile(.70)\n",
    "level_8 = new_employed['Income Level'].quantile(.80)\n",
    "#level_9 = new_employed['Income Level'].quantile(.90)"
   ]
  },
  {
   "cell_type": "code",
   "execution_count": 4,
   "metadata": {},
   "outputs": [
    {
     "data": {
      "text/plain": [
       "Level 1    119408\n",
       "Level 3     35886\n",
       "Level 2     25076\n",
       "Name: Income Level, dtype: int64"
      ]
     },
     "execution_count": 4,
     "metadata": {},
     "output_type": "execute_result"
    }
   ],
   "source": [
    "new_employed.loc[(new_employed['Monthly Income'] <= level_4, 'Income Level')] = 'Level 1'\n",
    "new_employed.loc[((new_employed['Monthly Income'] <= level_8) & (new_employed['Monthly Income'] > level_4),'Income Level')] = 'Level 2'\n",
    "#new_employed.loc[((new_employed['Monthly Income'] <= level_6) & (new_employed['Monthly Income'] > level_4), 'Income Level')] = 'Level 6'\n",
    "new_employed.loc[(new_employed['Monthly Income'] > level_8, 'Income Level')] = 'Level 3'\n",
    "\n",
    "new_employed['Income Level'].value_counts()"
   ]
  },
  {
   "cell_type": "raw",
   "metadata": {},
   "source": [
    "new_employed.loc[(new_employed['Monthly Income'] <= level_1, 'Income Level')] = 'Level 1'\n",
    "new_employed.loc[((new_employed['Monthly Income'] <= level_2) & (new_employed['Monthly Income'] > level_1) , 'Income Level')] = 'Level 2'\n",
    "new_employed.loc[((new_employed['Monthly Income'] <= level_3) & (new_employed['Monthly Income'] > level_2), 'Income Level')] = 'Level 3'\n",
    "new_employed.loc[((new_employed['Monthly Income'] <= level_4) & (new_employed['Monthly Income'] > level_3),'Income Level')] = 'Level 4'\n",
    "new_employed.loc[((new_employed['Monthly Income'] <= level_5) & (new_employed['Monthly Income'] > level_4),'Income Level')] = 'Level 5'\n",
    "new_employed.loc[((new_employed['Monthly Income'] <= level_6) & (new_employed['Monthly Income'] > level_5), 'Income Level')] = 'Level 6'\n",
    "new_employed.loc[((new_employed['Monthly Income'] <= level_7) & (new_employed['Monthly Income'] > level_6), 'Income Level')] = 'Level 7'\n",
    "new_employed.loc[((new_employed['Monthly Income'] <= level_8) & (new_employed['Monthly Income'] > level_7), 'Income Level')] = 'Level 8'\n",
    "new_employed.loc[((new_employed['Monthly Income'] <= level_9) & (new_employed['Monthly Income'] > level_8), 'Income Level')] = 'Level 9'\n",
    "new_employed.loc[(new_employed['Monthly Income'] > level_9, 'Income Level')] = 'Level 10'\n",
    "\n",
    "new_employed['Income Level'].value_counts()"
   ]
  },
  {
   "cell_type": "code",
   "execution_count": 5,
   "metadata": {},
   "outputs": [
    {
     "name": "stdout",
     "output_type": "stream",
     "text": [
      "Accuracy:  0.5882168135868863\n"
     ]
    }
   ],
   "source": [
    "y = new_employed['Income Level']\n",
    "X = new_employed.drop(columns=['Monthly Income', 'Income Level'], axis=1)\n",
    "\n",
    "rel_columns = ['Age','Gender', 'Literacy', 'Scholarship','Career', 'Marital Status', 'Urban or Rural', 'Residence','Economic Zone', 'By Position','By Economic Sector']\n",
    "X = pd.get_dummies(X[rel_columns], drop_first=True, dtype=float)\n",
    "\n",
    "scaler = MinMaxScaler()\n",
    "X=pd.DataFrame(scaler.fit_transform(X),\n",
    "            columns=X.columns, index=X.index) \n",
    "\n",
    "X_train, X_test, y_train, y_test = train_test_split(X, y, test_size=0.3, random_state= 42)\n",
    "\n",
    "clf = DecisionTreeClassifier(criterion='entropy')\n",
    "\n",
    "clf.fit(X_train, y_train)\n",
    "\n",
    "y_preds = clf.predict(X_test)\n",
    "\n",
    "print('Accuracy: ', accuracy_score(y_test, y_preds))"
   ]
  },
  {
   "cell_type": "code",
   "execution_count": 6,
   "metadata": {},
   "outputs": [
    {
     "data": {
      "text/plain": [
       "DecisionTreeClassifier(max_depth=5)"
      ]
     },
     "execution_count": 6,
     "metadata": {},
     "output_type": "execute_result"
    }
   ],
   "source": [
    "# with gini\n",
    "\n",
    "target = new_employed['Income Level']\n",
    "data = new_employed.drop(columns=['Monthly Income', 'Income Level'], axis=1)\n",
    "\n",
    "data = pd.get_dummies(data[rel_columns], drop_first=True, dtype=float)\n",
    "\n",
    "scaler = MinMaxScaler()\n",
    "data=pd.DataFrame(scaler.fit_transform(data),\n",
    "            columns=data.columns, index=data.index) \n",
    "\n",
    "data_train, data_test, target_train, target_test = train_test_split(data, target, \n",
    "                                                                    test_size = 0.25, random_state=123)\n",
    "# Instantiate and fit a DecisionTreeClassifier\n",
    "tree_clf = DecisionTreeClassifier(criterion='gini', max_depth=5) \n",
    "tree_clf.fit(data_train, target_train)"
   ]
  },
  {
   "cell_type": "code",
   "execution_count": 7,
   "metadata": {},
   "outputs": [
    {
     "name": "stdout",
     "output_type": "stream",
     "text": [
      "              precision    recall  f1-score   support\n",
      "\n",
      "     Level 1       0.68      0.97      0.80     29867\n",
      "     Level 2       0.47      0.03      0.05      6240\n",
      "     Level 3       0.43      0.08      0.14      8986\n",
      "\n",
      "    accuracy                           0.67     45093\n",
      "   macro avg       0.52      0.36      0.33     45093\n",
      "weighted avg       0.60      0.67      0.56     45093\n",
      "\n",
      "Testing Accuracy for Decision Tree Classifier: 66.55%\n"
     ]
    }
   ],
   "source": [
    "# Test set predictions\n",
    "pred = tree_clf.predict(data_test)\n",
    "\n",
    "# classification report\n",
    "\n",
    "print(classification_report(target_test, pred))\n",
    "print(\"Testing Accuracy for Decision Tree Classifier: {:.4}%\".format(accuracy_score(target_test, pred) * 100))"
   ]
  },
  {
   "cell_type": "code",
   "execution_count": 8,
   "metadata": {},
   "outputs": [
    {
     "data": {
      "text/plain": [
       "0.6824146011517109"
      ]
     },
     "execution_count": 8,
     "metadata": {},
     "output_type": "execute_result"
    }
   ],
   "source": [
    "# Prunning\n",
    "\n",
    "# Instantiate and fit a DecisionTreeClassifier\n",
    "tree_clf2 = DecisionTreeClassifier(criterion='gini', min_samples_split=8, max_depth=100, splitter='best', min_samples_leaf= 100) \n",
    "tree_clf2.fit(data_train, target_train)\n",
    "\n",
    "tree_clf2.score(data_train, target_train)"
   ]
  },
  {
   "cell_type": "code",
   "execution_count": 9,
   "metadata": {},
   "outputs": [
    {
     "data": {
      "text/plain": [
       "0.6748497549508793"
      ]
     },
     "execution_count": 9,
     "metadata": {},
     "output_type": "execute_result"
    }
   ],
   "source": [
    "tree_clf2.score(data_test, target_test)"
   ]
  },
  {
   "cell_type": "code",
   "execution_count": 10,
   "metadata": {},
   "outputs": [
    {
     "data": {
      "text/plain": [
       "0.6813427264058192"
      ]
     },
     "execution_count": 10,
     "metadata": {},
     "output_type": "execute_result"
    }
   ],
   "source": [
    "# Instantiate a BaggingClassifier\n",
    "bagged_tree2 =  BaggingClassifier(DecisionTreeClassifier(criterion='gini', min_samples_split=8, max_depth=100, splitter='best', min_samples_leaf= 100), \n",
    "                                 n_estimators=20)\n",
    "# Fit to the training data\n",
    "bagged_tree2.fit(data_train, target_train)\n",
    "\n",
    "# Training accuracy score\n",
    "bagged_tree2.score(data_train, target_train)"
   ]
  },
  {
   "cell_type": "code",
   "execution_count": 11,
   "metadata": {},
   "outputs": [
    {
     "data": {
      "text/plain": [
       "0.6763577495398398"
      ]
     },
     "execution_count": 11,
     "metadata": {},
     "output_type": "execute_result"
    }
   ],
   "source": [
    "# Test accuracy score\n",
    "bagged_tree2.score(data_test, target_test)"
   ]
  },
  {
   "cell_type": "code",
   "execution_count": null,
   "metadata": {},
   "outputs": [],
   "source": []
  }
 ],
 "metadata": {
  "kernelspec": {
   "display_name": "Python 3",
   "language": "python",
   "name": "python3"
  },
  "language_info": {
   "codemirror_mode": {
    "name": "ipython",
    "version": 3
   },
   "file_extension": ".py",
   "mimetype": "text/x-python",
   "name": "python",
   "nbconvert_exporter": "python",
   "pygments_lexer": "ipython3",
   "version": "3.8.5"
  }
 },
 "nbformat": 4,
 "nbformat_minor": 4
}
